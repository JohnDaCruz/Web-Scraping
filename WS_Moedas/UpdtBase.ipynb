{
 "cells": [
  {
   "cell_type": "code",
   "execution_count": 94,
   "id": "03159342-602e-474a-a365-04451fad794c",
   "metadata": {},
   "outputs": [],
   "source": [
    "import pandas as pd\n",
    "from datetime import date\n",
    "from selenium import webdriver\n",
    "from selenium.webdriver.common.keys import Keys\n",
    "from selenium.webdriver.common.by import By"
   ]
  },
  {
   "cell_type": "code",
   "execution_count": 95,
   "id": "189201af-3ef8-4af7-b6d9-94f815f0edb0",
   "metadata": {},
   "outputs": [],
   "source": [
    "file = pd.read_excel('cotacao_moedas.xlsx')"
   ]
  },
  {
   "cell_type": "code",
   "execution_count": 96,
   "id": "fc9c81a3-8a6b-4855-8baa-89243309bc72",
   "metadata": {},
   "outputs": [],
   "source": [
    "navegador = webdriver.Edge()\n",
    "\n",
    "navegador.get(\"https://google.com.br\")\n",
    "navegador.find_element(By.XPATH,'/html/body/div[1]/div[3]/form/div[1]/div[1]/div[1]/div/div[2]/input').send_keys('Cotação dólar')\n",
    "navegador.find_element(By.XPATH,'/html/body/div[1]/div[3]/form/div[1]/div[1]/div[1]/div/div[2]/input').send_keys(Keys.ENTER)\n",
    "dolar = navegador.find_element(By.XPATH,'//*[@id=\"knowledge-currency__updatable-data-column\"]/div[1]/div[2]/span[1]').get_attribute(\"data-value\")\n",
    "dolar = dolar[0:4].replace('.',',')\n",
    "\n",
    "navegador.get(\"https://google.com.br\")\n",
    "navegador.find_element(By.XPATH,'/html/body/div[1]/div[3]/form/div[1]/div[1]/div[1]/div/div[2]/input').send_keys('Cotação Euro')\n",
    "navegador.find_element(By.XPATH,'/html/body/div[1]/div[3]/form/div[1]/div[1]/div[1]/div/div[2]/input').send_keys(Keys.ENTER)\n",
    "euro = navegador.find_element(By.XPATH,'//*[@id=\"knowledge-currency__updatable-data-column\"]/div[1]/div[2]/span[1]').get_attribute(\"data-value\")\n",
    "euro = euro[0:4].replace('.',',')\n",
    "\n",
    "navegador.get(\"https://google.com.br\")\n",
    "navegador.find_element(By.XPATH,'/html/body/div[1]/div[3]/form/div[1]/div[1]/div[1]/div/div[2]/input').send_keys('Cotação Libra Esterlina')\n",
    "navegador.find_element(By.XPATH,'/html/body/div[1]/div[3]/form/div[1]/div[1]/div[1]/div/div[2]/input').send_keys(Keys.ENTER)\n",
    "libra = navegador.find_element(By.XPATH,'//*[@id=\"knowledge-currency__updatable-data-column\"]/div[1]/div[2]/span[1]').get_attribute(\"data-value\")\n",
    "libra = libra[0:4].replace('.',',')\n",
    "\n",
    "date = str(date.today())\n",
    "data = {'Dolar':[dolar],'Euro':[euro],'Libra':[libra],'Data':[date]}\n",
    "\n",
    "navegador.quit()\n",
    "\n",
    "i = len(file.index) + 1\n",
    "file.loc[i] = [dolar, euro, libra, date]\n",
    "coins = file.to_excel(r'cotacao_moedas.xlsx',sheet_name='cotação de moedas', index=False)"
   ]
  }
 ],
 "metadata": {
  "kernelspec": {
   "display_name": "Python 3 (ipykernel)",
   "language": "python",
   "name": "python3"
  },
  "language_info": {
   "codemirror_mode": {
    "name": "ipython",
    "version": 3
   },
   "file_extension": ".py",
   "mimetype": "text/x-python",
   "name": "python",
   "nbconvert_exporter": "python",
   "pygments_lexer": "ipython3",
   "version": "3.11.1"
  }
 },
 "nbformat": 4,
 "nbformat_minor": 5
}
